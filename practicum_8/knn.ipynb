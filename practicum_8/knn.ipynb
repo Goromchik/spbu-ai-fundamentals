{
 "cells": [
  {
   "cell_type": "markdown",
   "metadata": {
    "id": "SoWTnBQpuc6s"
   },
   "source": [
    "# Метод k-ближайших соседей"
   ]
  },
  {
   "cell_type": "markdown",
   "metadata": {},
   "source": [
    "#### Настройка среды\n",
    "\n",
    "- Создаем изолированное окружение: `python -m venv venv`\n",
    "- Активируем: (unix) `. venv/bin/activate` или (win) `. venv/Scripts/activate`\n",
    "- Устанавливаем зависимости: `pip install -r practicum_8/requirements.txt`"
   ]
  },
  {
   "cell_type": "code",
   "execution_count": 1,
   "metadata": {
    "executionInfo": {
     "elapsed": 1316,
     "status": "ok",
     "timestamp": 1680806803375,
     "user": {
      "displayName": "Анастасия Никольская",
      "userId": "05163973069761496365"
     },
     "user_tz": -180
    },
    "id": "6B-GvTsIuc6v"
   },
   "outputs": [],
   "source": [
    "import random\n",
    "import warnings\n",
    "from typing import Callable, Union\n",
    "\n",
    "import category_encoders as ce\n",
    "import matplotlib.pyplot as plt\n",
    "import numpy as np\n",
    "import pandas as pd\n",
    "import yaml\n",
    "from numpy.typing import NDArray\n",
    "from sklearn.metrics import accuracy_score\n",
    "from sklearn.metrics.pairwise import cosine_similarity\n",
    "from sklearn.model_selection import train_test_split\n",
    "from sklearn.neighbors import KNeighborsClassifier\n",
    "from sklearn.preprocessing import LabelEncoder, StandardScaler\n",
    "\n",
    "\n",
    "TEST_SPLIT = 0.2\n",
    "SEED = 42\n",
    "\n",
    "random.seed(SEED)\n",
    "np.random.seed(SEED)"
   ]
  },
  {
   "cell_type": "markdown",
   "metadata": {},
   "source": [
    "## Реализуем простейшую версию kNN для задач классификации"
   ]
  },
  {
   "cell_type": "markdown",
   "metadata": {},
   "source": [
    "#### Метрики"
   ]
  },
  {
   "cell_type": "code",
   "execution_count": null,
   "metadata": {},
   "outputs": [],
   "source": [
    "NpIntArrayT = NDArray[np.int_]\n",
    "NpFloatArrayT = NDArray[np.float_]\n",
    "NpArrayT = NDArray[Union[np.float_, np.int_]]\n",
    "MetricT = Callable[[NpArrayT, NpArrayT, Union[NpArrayT, None]], NpFloatArrayT]\n",
    "\n",
    "# vector (1, m)\n",
    "# matrix (n, m)\n",
    "\n",
    "\n",
    "def euclidean_distance(sample: NpArrayT, train_samples: NpArrayT) -> NpFloatArrayT:\n",
    "    return np.sqrt(np.sum((sample - train_samples) ** 2, axis=1))\n",
    "\n",
    "\n",
    "def cosine_distance(sample: NpArrayT, train_samples: NpArrayT) -> NpFloatArrayT:\n",
    "    dot_prod = sample @ train_samples.T\n",
    "    norm1 = np.sqrt(np.sum(sample**2))\n",
    "    norm2 = np.sqrt(np.sum(train_samples**2, axis=1))\n",
    "    return 1 - dot_prod / norm1 / norm2\n",
    "\n",
    "\n",
    "def custom_metric(\n",
    "    sample: NpArrayT, train_samples: NpArrayT, weights: Union[NpArrayT, None] = None\n",
    ") -> NpFloatArrayT:\n",
    "    raise NotImplementedError"
   ]
  },
  {
   "cell_type": "code",
   "execution_count": null,
   "metadata": {},
   "outputs": [],
   "source": [
    "sample = np.array([1, 0, -1])\n",
    "train_samples = np.array([[-1, -1, 1], [1, 0, 0], [2, -2, 0]])\n",
    "\n",
    "print(euclidean_distance(sample=sample, train_samples=train_samples), end=\"\\n\\n\")\n",
    "\n",
    "# Замечание: cosine distance = 1 - cosine similarity\n",
    "print(\n",
    "    \"Наш cosine distance: \", cosine_distance(sample=sample, train_samples=train_samples)\n",
    ")\n",
    "print(\n",
    "    \"sklearn cosine distance: \",\n",
    "    1 - cosine_similarity(sample.reshape(1, -1), train_samples),\n",
    ")"
   ]
  },
  {
   "cell_type": "markdown",
   "metadata": {},
   "source": [
    "#### Поиск соседей\n",
    "\n",
    "Необходимо рассчитать расстояния от каждого тестового наблюдения до наблюдений в обучающей выборке, а затем просто отсортировать по возрастанию."
   ]
  },
  {
   "cell_type": "code",
   "execution_count": null,
   "metadata": {},
   "outputs": [],
   "source": [
    "# data_train: (N, m)\n",
    "# data_test: (n, m)\n",
    "\n",
    "\n",
    "def get_neighbors_info(\n",
    "    data_train: NpArrayT, data_test: NpArrayT, metric: MetricT\n",
    ") -> tuple[NpIntArrayT, NpFloatArrayT]:\n",
    "    distances = np.array([metric(test_sample, data_train) for test_sample in data_test])\n",
    "\n",
    "    neighbors = np.zeros_like(distances, dtype=np.int_)\n",
    "    for sample_idx, sample_dists in enumerate(distances):\n",
    "        neighbors[sample_idx, :] = np.argsort(sample_dists)\n",
    "\n",
    "    return neighbors, distances"
   ]
  },
  {
   "cell_type": "code",
   "execution_count": null,
   "metadata": {},
   "outputs": [],
   "source": [
    "get_neighbors_info(\n",
    "    data_train=train_samples,\n",
    "    data_test=np.array([sample, sample]),\n",
    "    metric=euclidean_distance,\n",
    ")"
   ]
  },
  {
   "cell_type": "markdown",
   "metadata": {},
   "source": [
    "#### Обернем в fit-predict логику sklearn'а "
   ]
  },
  {
   "cell_type": "code",
   "execution_count": null,
   "metadata": {},
   "outputs": [],
   "source": [
    "class KNNClassifier:\n",
    "    def __init__(\n",
    "        self,\n",
    "        k: int = 5,\n",
    "        metric: MetricT = euclidean_distance,\n",
    "    ) -> None:\n",
    "        self.k = k\n",
    "        self.metric = metric\n",
    "\n",
    "        self.data_train: Union[NpArrayT, None] = None\n",
    "        self.y_train: Union[NpIntArrayT, None] = None\n",
    "\n",
    "    def fit(self, X: pd.DataFrame, y: pd.DataFrame) -> None:\n",
    "        self.data_train = X.values\n",
    "        self.y_train = y.values.reshape(-1)\n",
    "\n",
    "    def predict(self, X_test: pd.DataFrame) -> NpIntArrayT:\n",
    "        assert self.data_train is not None\n",
    "        neighbors, distances = get_neighbors_info(\n",
    "            data_train=self.data_train, data_test=X_test.values, metric=self.metric\n",
    "        )\n",
    "        neighbors_k = neighbors[:, : self.k]\n",
    "        distances_k = distances[:, : self.k]\n",
    "        return self._predict(neighbors_k=neighbors_k, distances_k=distances_k)\n",
    "\n",
    "    def _predict(\n",
    "        self, neighbors_k: NpIntArrayT, distances_k: NpFloatArrayT\n",
    "    ) -> NpIntArrayT:\n",
    "        assert self.y_train is not None\n",
    "        y_pred = [\n",
    "            np.argmax(np.bincount(self.y_train[sample_neighbors.T]))\n",
    "            for sample_neighbors in neighbors_k\n",
    "        ]\n",
    "        return np.array(y_pred, dtype=np.int_)"
   ]
  },
  {
   "cell_type": "markdown",
   "metadata": {},
   "source": [
    "#### Задание на дом\n",
    "\n",
    "- Реализовать метрику, учитывающую значимость столбцов (опциональный параметр `weights` в матрике)\n",
    "- Реализовать предсказание таргета с учетом расстояний до ближайших соседей (на манер `weights=distance` в KNeighborsClassifier)"
   ]
  },
  {
   "cell_type": "code",
   "execution_count": 3,
   "metadata": {},
   "outputs": [
    {
     "name": "stdout",
     "output_type": "stream",
     "text": [
      "Обычный KNN: [0 1]\n",
      "KNN с весами признаков: [0 1]\n",
      "KNN с весами расстояний: [0 1]\n"
     ]
    }
   ],
   "source": [
    "import numpy as np\n",
    "from collections import Counter\n",
    "\n",
    "class SimpleKNN:\n",
    "    def __init__(self, k=5, metric='euclidean', weights=None, use_distance_weights=False):\n",
    "        self.k = k\n",
    "        self.metric = metric\n",
    "        self.weights = weights\n",
    "        self.use_distance_weights = use_distance_weights\n",
    "        \n",
    "    def fit(self, X, y):\n",
    "        self.X_train = np.array(X)\n",
    "        self.y_train = np.array(y)\n",
    "        \n",
    "    def predict(self, X_test):\n",
    "        predictions = []\n",
    "        for x in X_test:\n",
    "            if self.metric == 'euclidean':\n",
    "                distances = self._euclidean_distance(x)\n",
    "            else:\n",
    "                distances = self._cosine_distance(x)\n",
    "            \n",
    "            nearest_indices = np.argsort(distances)[:self.k]\n",
    "            nearest_labels = self.y_train[nearest_indices]\n",
    "            nearest_distances = distances[nearest_indices]\n",
    "\n",
    "            if self.use_distance_weights:\n",
    "                pred = self._weighted_vote(nearest_labels, nearest_distances)\n",
    "            else:\n",
    "                pred = self._majority_vote(nearest_labels)\n",
    "            \n",
    "            predictions.append(pred)\n",
    "        \n",
    "        return np.array(predictions)\n",
    "    \n",
    "    def _euclidean_distance(self, x):\n",
    "        if self.weights is not None:\n",
    "            return np.sqrt(np.sum(self.weights * (self.X_train - x)**2, axis=1))\n",
    "        return np.sqrt(np.sum((self.X_train - x)**2, axis=1))\n",
    "    \n",
    "    def _cosine_distance(self, x):\n",
    "        norm_x = np.sqrt(np.sum(x**2))\n",
    "        norm_train = np.sqrt(np.sum(self.X_train**2, axis=1))\n",
    "        dot = self.X_train @ x\n",
    "        return 1 - dot / (norm_train * norm_x)\n",
    "    \n",
    "    def _majority_vote(self, labels):\n",
    "        return Counter(labels).most_common(1)[0][0]\n",
    "    \n",
    "    def _weighted_vote(self, labels, distances):\n",
    "        weights = 1 / (distances + 1e-10)  \n",
    "        vote_counts = {}\n",
    "        for label, weight in zip(labels, weights):\n",
    "            vote_counts[label] = vote_counts.get(label, 0) + weight\n",
    "        return max(vote_counts.items(), key=lambda x: x[1])[0]\n",
    "\n",
    "if __name__ == \"__main__\":\n",
    "\n",
    "    X_train = [[1, 2], [1, 4], [4, 1], [4, 3]]\n",
    "    y_train = [0, 0, 1, 1]\n",
    "    X_test = [[2, 3], [3, 1]]\n",
    "    \n",
    "    knn = SimpleKNN(k=2)\n",
    "    knn.fit(X_train, y_train)\n",
    "    print(\"Обычный KNN:\", knn.predict(X_test))\n",
    "    \n",
    "    knn_weights = SimpleKNN(k=2, weights=[0.8, 0.2]) \n",
    "    knn_weights.fit(X_train, y_train)\n",
    "    print(\"KNN с весами признаков:\", knn_weights.predict(X_test))\n",
    "    \n",
    "    knn_dist = SimpleKNN(k=2, use_distance_weights=True)\n",
    "    knn_dist.fit(X_train, y_train)\n",
    "    print(\"KNN с весами расстояний:\", knn_dist.predict(X_test))"
   ]
  },
  {
   "cell_type": "markdown",
   "metadata": {
    "id": "g66ZUCx6uc61"
   },
   "source": [
    "## Эксперименты\n",
    "\n",
    "Протестируем реализованный нами `KNNClassifier` и его стандартную реализацию из scikit-learn `sklearn.neighbors.KNeighborsClassifier` на датасетах [WDBC](https://www.kaggle.com/datasets/mohaiminul101/wisconsin-diagnostic-breast-cancer-wdbc) и [Mushrooms](https://www.kaggle.com/datasets/uciml/mushroom-classification)."
   ]
  },
  {
   "cell_type": "code",
   "execution_count": null,
   "metadata": {},
   "outputs": [],
   "source": [
    "with open(\"../config.yaml\", \"r\") as f:\n",
    "    cfg = yaml.safe_load(f)"
   ]
  },
  {
   "cell_type": "markdown",
   "metadata": {},
   "source": [
    "#### Подготовка WDBC"
   ]
  },
  {
   "cell_type": "code",
   "execution_count": null,
   "metadata": {
    "executionInfo": {
     "elapsed": 177,
     "status": "ok",
     "timestamp": 1680817825094,
     "user": {
      "displayName": "Анастасия Никольская",
      "userId": "05163973069761496365"
     },
     "user_tz": -180
    },
    "id": "5E0hcqBYW-qU"
   },
   "outputs": [],
   "source": [
    "df_wdbc = pd.read_csv(cfg[\"classification\"][\"wdbc\"])\n",
    "target_col_wdbc = \"diagnosis\"\n",
    "\n",
    "df_wdbc = df_wdbc.drop([\"id\", \"Unnamed: 32\"], axis=1)\n",
    "df_wdbc[target_col_wdbc] = df_wdbc[target_col_wdbc].replace({\"B\": 0, \"M\": 1})\n",
    "feature_cols_wdbc = list(df_wdbc.columns)\n",
    "feature_cols_wdbc.remove(target_col_wdbc)\n",
    "\n",
    "y_wdbc = df_wdbc[[target_col_wdbc]]\n",
    "X_wdbc = df_wdbc[feature_cols_wdbc]\n",
    "\n",
    "X_wdbc_train, X_wdbc_test, y_wdbc_train, y_wdbc_test = train_test_split(\n",
    "    X_wdbc, y_wdbc, test_size=TEST_SPLIT, random_state=SEED\n",
    ")\n",
    "\n",
    "# Нормализация!\n",
    "standard_scaler = StandardScaler()\n",
    "X_wdbc_train[feature_cols_wdbc] = standard_scaler.fit_transform(X_wdbc_train)\n",
    "X_wdbc_test[feature_cols_wdbc] = standard_scaler.transform(X_wdbc_test)"
   ]
  },
  {
   "cell_type": "markdown",
   "metadata": {},
   "source": [
    "#### Подготовка Mushrooms"
   ]
  },
  {
   "cell_type": "code",
   "execution_count": null,
   "metadata": {},
   "outputs": [],
   "source": [
    "df_mushrooms = pd.read_csv(cfg[\"classification\"][\"mushrooms\"])\n",
    "target_col_mushrooms = \"class\"\n",
    "\n",
    "feature_cols_mushrooms = list(df_mushrooms.columns)\n",
    "feature_cols_mushrooms.remove(target_col_mushrooms)\n",
    "\n",
    "y_mushrooms = df_mushrooms[[target_col_mushrooms]]\n",
    "X_mushrooms = df_mushrooms[feature_cols_mushrooms]\n",
    "\n",
    "(\n",
    "    X_mushrooms_train,\n",
    "    X_mushrooms_test,\n",
    "    y_mushrooms_train,\n",
    "    y_mushrooms_test,\n",
    ") = train_test_split(X_mushrooms, y_mushrooms, test_size=TEST_SPLIT, random_state=SEED)\n",
    "\n",
    "count_encoder = ce.CountEncoder()\n",
    "X_mushrooms_train = count_encoder.fit_transform(X_mushrooms_train)\n",
    "X_mushrooms_test = count_encoder.transform(X_mushrooms_test)\n",
    "\n",
    "# Нормализация!\n",
    "standard_scaler = StandardScaler()\n",
    "X_mushrooms_train[feature_cols_mushrooms] = standard_scaler.fit_transform(\n",
    "    X_mushrooms_train\n",
    ")\n",
    "X_mushrooms_test[feature_cols_mushrooms] = standard_scaler.transform(X_mushrooms_test)\n",
    "\n",
    "label_encoder = LabelEncoder()\n",
    "with warnings.catch_warnings():\n",
    "    warnings.simplefilter(\"ignore\")\n",
    "    y_mushrooms_train[target_col_mushrooms] = label_encoder.fit_transform(\n",
    "        y_mushrooms_train.values\n",
    "    )\n",
    "    y_mushrooms_test[target_col_mushrooms] = label_encoder.fit_transform(\n",
    "        y_mushrooms_test.values\n",
    "    )"
   ]
  },
  {
   "cell_type": "markdown",
   "metadata": {},
   "source": [
    "#### Сравним нашу реализацию с реализацией sklearn"
   ]
  },
  {
   "cell_type": "code",
   "execution_count": null,
   "metadata": {},
   "outputs": [],
   "source": [
    "K_NEIGHBORS = 5\n",
    "\n",
    "knn_wdbc_ours = KNNClassifier(k=K_NEIGHBORS, metric=euclidean_distance)\n",
    "knn_wdbc_sklearn = KNeighborsClassifier(\n",
    "    n_neighbors=K_NEIGHBORS, metric=\"euclidean\", algorithm=\"brute\", weights=\"uniform\"\n",
    ")\n",
    "\n",
    "knn_wdbc_ours.fit(X=X_wdbc_train, y=y_wdbc_train)\n",
    "knn_wdbc_sklearn.fit(X=X_wdbc_train, y=y_wdbc_train.values.reshape(-1))\n",
    "\n",
    "y_wdbc_pred_ours = knn_wdbc_ours.predict(X_test=X_wdbc_test)\n",
    "y_wdbc_pred_sklearn = knn_wdbc_sklearn.predict(X=X_wdbc_test)\n",
    "\n",
    "print(\"Наш kNN: \", accuracy_score(y_true=y_wdbc_test, y_pred=y_wdbc_pred_ours))\n",
    "print(\"kNN sklearn: \", accuracy_score(y_true=y_wdbc_test, y_pred=y_wdbc_pred_sklearn))"
   ]
  },
  {
   "cell_type": "code",
   "execution_count": null,
   "metadata": {},
   "outputs": [],
   "source": [
    "K_NEIGHBORS = 5\n",
    "\n",
    "knn_mushrooms_ours = KNNClassifier(k=K_NEIGHBORS, metric=cosine_distance)\n",
    "knn_mushrooms_sklearn = KNeighborsClassifier(\n",
    "    n_neighbors=K_NEIGHBORS, metric=\"cosine\", algorithm=\"brute\", weights=\"uniform\"\n",
    ")\n",
    "\n",
    "knn_mushrooms_ours.fit(X=X_mushrooms_train, y=y_mushrooms_train)\n",
    "knn_mushrooms_sklearn.fit(X=X_mushrooms_train, y=y_mushrooms_train.values.reshape(-1))\n",
    "\n",
    "y_mushrooms_pred_ours = knn_mushrooms_ours.predict(X_test=X_mushrooms_test)\n",
    "y_mushrooms_pred_sklearn = knn_mushrooms_sklearn.predict(X=X_mushrooms_test)\n",
    "\n",
    "print(\n",
    "    \"Наш kNN: \", accuracy_score(y_true=y_mushrooms_test, y_pred=y_mushrooms_pred_ours)\n",
    ")\n",
    "print(\n",
    "    \"kNN sklearn: \",\n",
    "    accuracy_score(y_true=y_mushrooms_test, y_pred=y_mushrooms_pred_sklearn),\n",
    ")"
   ]
  },
  {
   "cell_type": "code",
   "execution_count": null,
   "metadata": {},
   "outputs": [],
   "source": []
  }
 ],
 "metadata": {
  "colab": {
   "provenance": []
  },
  "kernelspec": {
   "display_name": ".venv",
   "language": "python",
   "name": "python3"
  },
  "language_info": {
   "codemirror_mode": {
    "name": "ipython",
    "version": 3
   },
   "file_extension": ".py",
   "mimetype": "text/x-python",
   "name": "python",
   "nbconvert_exporter": "python",
   "pygments_lexer": "ipython3",
   "version": "3.13.2"
  }
 },
 "nbformat": 4,
 "nbformat_minor": 1
}
